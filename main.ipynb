{
 "cells": [
  {
   "cell_type": "code",
   "execution_count": 4,
   "metadata": {},
   "outputs": [],
   "source": [
    "def selection(k, arr):\n",
    "    if len(arr) == 1:\n",
    "        return arr[0]\n",
    "    j = arr[0]\n",
    "    left = [num for num in arr if num < j]\n",
    "    right = [num for num in arr if num > j]\n",
    "    if len(left) == k-1:\n",
    "        return j\n",
    "    elif len(left) >= k:\n",
    "        return selection(k, left)\n",
    "    else:\n",
    "        return selection(k-len(left)-1, right)"
   ]
  },
  {
   "cell_type": "code",
   "execution_count": 11,
   "metadata": {},
   "outputs": [],
   "source": [
    "def insertion_sort(list_to_sort):\n",
    "    for i in range(len(list_to_sort)):\n",
    "        current_value = list_to_sort[i]\n",
    "        j = i - 1\n",
    "        while j >= 0 and list_to_sort[j] > current_value:\n",
    "            list_to_sort[j + 1] = list_to_sort[j]\n",
    "            j = j - 1\n",
    "        list_to_sort[j + 1] = current_value\n",
    "    return list_to_sort"
   ]
  },
  {
   "cell_type": "code",
   "execution_count": 22,
   "metadata": {},
   "outputs": [],
   "source": [
    "def selection_by_sort(k, arr):\n",
    "    arr = insertion_sort(arr)\n",
    "    return arr[k-1]"
   ]
  },
  {
   "cell_type": "code",
   "execution_count": 16,
   "metadata": {},
   "outputs": [
    {
     "name": "stdout",
     "output_type": "stream",
     "text": [
      "2\n"
     ]
    }
   ],
   "source": [
    "print(selection(2,[1,2,3,3,3,4,5]))"
   ]
  },
  {
   "cell_type": "code",
   "execution_count": 23,
   "metadata": {},
   "outputs": [
    {
     "name": "stdout",
     "output_type": "stream",
     "text": [
      "Our algorithm vs test cases\n",
      "Test Case: k = 3 Array = [1, 2, 3, 4, 5] | Solution: 3 | Algorithm's Solution: 3\n",
      "Test Case: k = 3 Array = [5, 4, 3, 2, 1] | Solution: 3 | Algorithm's Solution: 3\n",
      "Test Case: k = 1 Array = [4] | Solution: 4 | Algorithm's Solution: 4\n",
      "Test Case: k = 5 Array = [1, 9, 2, 8, 3, 7, 4, 6, 5] | Solution: 5 | Algorithm's Solution: 5\n",
      "Test Case: k = 3 Array = [5, 1, 6, 7, 3, 4, 8] | Solution: 4 | Algorithm's Solution: 4\n",
      "Test Case: k = 6 Array = [-1, 1, -2, 2, -3, 3, -4, 4, -5, 5] | Solution: 1 | Algorithm's Solution: 1\n",
      "Test Case: k = 5 Array = [1, 4, 5, 3, 2] | Solution: 5 | Algorithm's Solution: 5\n",
      "Test Case: k = 1 Array = [2, 5, 4, 3, 1] | Solution: 1 | Algorithm's Solution: 1\n",
      "Test Case: k = 1 Array = [1, 1, 1, 1, 1, 1, 1] | Solution: 1 | Algorithm's Solution: 1\n",
      "Selection via sort vs test cases\n",
      "Test Case: k = 3 Array = [1, 2, 3, 4, 5] | Solution: 3 | Algorithm's Solution: 3\n",
      "Test Case: k = 3 Array = [5, 4, 3, 2, 1] | Solution: 3 | Algorithm's Solution: 3\n",
      "Test Case: k = 1 Array = [4] | Solution: 4 | Algorithm's Solution: 4\n",
      "Test Case: k = 5 Array = [1, 9, 2, 8, 3, 7, 4, 6, 5] | Solution: 5 | Algorithm's Solution: 5\n",
      "Test Case: k = 3 Array = [5, 1, 6, 7, 3, 4, 8] | Solution: 4 | Algorithm's Solution: 4\n",
      "Test Case: k = 6 Array = [-1, 1, -2, 2, -3, 3, -4, 4, -5, 5] | Solution: 1 | Algorithm's Solution: 1\n",
      "Test Case: k = 5 Array = [1, 4, 5, 3, 2] | Solution: 5 | Algorithm's Solution: 5\n",
      "Test Case: k = 1 Array = [2, 5, 4, 3, 1] | Solution: 1 | Algorithm's Solution: 1\n",
      "Test Case: k = 1 Array = [1, 1, 1, 1, 1, 1, 1] | Solution: 1 | Algorithm's Solution: 1\n"
     ]
    }
   ],
   "source": [
    "test_cases = [\n",
    "    [3,[1,2,3,4,5]], #ascending order\n",
    "    [3,[5,4,3,2,1]], #descending order\n",
    "    [1,[4]], #1 element\n",
    "    [5,[1,9,2,8,3,7,4,6,5]], #random order\n",
    "    [3,[5,1,6,7,3,4,8]], #example set\n",
    "   # [4,[1,2,3,3,3,4,5]], #duplicates\n",
    "    [6,[-1,1,-2,2,-3,3,-4,4,-5,5]], #negatives\n",
    "    [5,[1,4,5,3,2]], # k = n\n",
    "    [1,[2,5,4,3,1]], # k = 1\n",
    "    [1,[1,1,1,1,1,1,1]] #all elements equal\n",
    "]\n",
    "\n",
    "solutions = [\n",
    "    3, #ascending order\n",
    "    3, #descending order\n",
    "    4, #1 element\n",
    "    5, #random order\n",
    "    4, #example set\n",
    "  #  3, #duplicates\n",
    "    1, #negatives\n",
    "    5, #k = n\n",
    "    1, #k = 1\n",
    "    1 #all elements equal\n",
    "]\n",
    "\n",
    "print(\"Our algorithm vs test cases\")\n",
    "for i in range(0, len(test_cases)):\n",
    "    print(\"Test Case: k = \" + str(test_cases[i][0]) + \" Array = \"+ str(test_cases[i][1]) + \" | Solution: \" + str(solutions[i]) + \" | Algorithm's Solution: \" + str(selection(test_cases[i][0], test_cases[i][1])))\n",
    "\n",
    "print()\n",
    "print(\"Selection via sort vs test cases\")\n",
    "for i in range(0, len(test_cases)):\n",
    "    print(\"Test Case: k = \" + str(test_cases[i][0]) + \" Array = \"+ str(test_cases[i][1]) + \" | Solution: \" + str(solutions[i]) + \" | Algorithm's Solution: \" + str(selection_by_sort(test_cases[i][0], test_cases[i][1])))\n"
   ]
  },
  {
   "cell_type": "code",
   "execution_count": null,
   "metadata": {},
   "outputs": [],
   "source": []
  },
  {
   "cell_type": "code",
   "execution_count": null,
   "metadata": {},
   "outputs": [],
   "source": []
  }
 ],
 "metadata": {
  "kernelspec": {
   "display_name": "Python 3",
   "language": "python",
   "name": "python3"
  },
  "language_info": {
   "codemirror_mode": {
    "name": "ipython",
    "version": 3
   },
   "file_extension": ".py",
   "mimetype": "text/x-python",
   "name": "python",
   "nbconvert_exporter": "python",
   "pygments_lexer": "ipython3",
   "version": "3.12.0"
  }
 },
 "nbformat": 4,
 "nbformat_minor": 2
}
